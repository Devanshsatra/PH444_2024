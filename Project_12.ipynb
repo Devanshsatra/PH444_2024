{
  "nbformat": 4,
  "nbformat_minor": 0,
  "metadata": {
    "colab": {
      "provenance": [],
      "collapsed_sections": [
        "DAy2Ko3XRxwe",
        "bA60U6yIi7lk",
        "OPtQkgbPYKSw",
        "9xorjZjMYiTn",
        "7HBtzr55Yq71"
      ],
      "toc_visible": true
    },
    "kernelspec": {
      "name": "python3",
      "display_name": "Python 3"
    },
    "language_info": {
      "name": "python"
    }
  },
  "cells": [
    {
      "cell_type": "markdown",
      "source": [
        "#Concerning classical forces, energies, and potentials for accelerated point charges"
      ],
      "metadata": {
        "id": "8KU0lffyKGUF"
      }
    },
    {
      "cell_type": "markdown",
      "source": [
        "##Introduction"
      ],
      "metadata": {
        "id": "R1-Hwcg_KTwI"
      }
    },
    {
      "cell_type": "markdown",
      "source": [
        "The energy density of Electric Field $(E^2/8π)$ and Magnetic Field $(B^2/8π)$ are analogous to each other. However, the connections\n",
        "between the energy expressions and the forces exerted by the\n",
        "fields are vastly different in the electric and magnetic cases.\n",
        "\n",
        " In the quasistatic regime, electric field energies depend only upon the relative positions of\n",
        "charges, whereas magnetic field energies depend upon both the\n",
        "relative positions of charges and also their velocities."
      ],
      "metadata": {
        "id": "h02tLVeSKgOs"
      }
    },
    {
      "cell_type": "markdown",
      "source": [
        "Usually textbooks discuss quasistatic magnetic\n",
        "energy changes for only two situations:\n",
        "\n",
        "1.   charges that move with constant speed\n",
        "2.   charges which change their speed but are in highly symmetric configurations.\n",
        "\n",
        "This limited perspective leaves out magnetic energy changes for situations that\n",
        "lack high symmetry. Hence, we present a simple point-charge\n",
        "example lacking high symmetry, which illustrates the connections between forces, energies, and potentials in quasistatic\n",
        "classical electrodynamics when radiation fields are excluded."
      ],
      "metadata": {
        "id": "bjRioYSPL79l"
      }
    },
    {
      "cell_type": "markdown",
      "source": [
        "**Example**:\n",
        "\n",
        "In magnetostatics, similar to electrostatics, we deal with only two of Maxwell's equations: $\\nabla \\cdot \\mathbf{B} = 0$ and $\\nabla \\times \\mathbf{B} = \\frac{4 \\pi}{c} \\mathbf{J}$.\n",
        "\n",
        "\n",
        "\n",
        "*   When $\\mathbf{J}(\\mathbf{r})$ exhibits axial symmetry we can directly determine $\\mathbf{B}$ using only Ampere's law, neglecting $\\nabla \\cdot \\mathbf{B} = 0$.\n",
        "*   However in situations lacking such symmetry, the Biot-Savart law becomes necessary for calculating $\\mathbf{B}$ which accounts for both Maxwell equations.\n",
        "\n",
        "Similar example can be given for Faraday’s law: $\\nabla \\times \\mathbf{E} = -\\frac{1}{c} \\frac{\\partial \\mathbf{B}}{\\partial t}$\n"
      ],
      "metadata": {
        "id": "-SJvhI00NIAQ"
      }
    },
    {
      "cell_type": "markdown",
      "source": [
        "\n",
        "---\n"
      ],
      "metadata": {
        "id": "kTqxxtLORtax"
      }
    },
    {
      "cell_type": "markdown",
      "source": [
        "##The Darwin–Lagrangian Approximation"
      ],
      "metadata": {
        "id": "DAy2Ko3XRxwe"
      }
    },
    {
      "cell_type": "markdown",
      "source": [
        "In classical electrodynamics, understanding the behavior of charged particles with varying velocities is complex due to electromagnetic fields depending on sources at delayed times. To simplify, we focus on **two point charges** moving at speeds much slower than the speed of light $( c )$.\n",
        "\n",
        "This scenario aligns with the **Darwin Lagrangian**, an approximation that also excludes radiation and avoids consideration of delayed times, significantly simplifying the analysis.\n"
      ],
      "metadata": {
        "id": "AMSLdsXxSBH_"
      }
    },
    {
      "cell_type": "markdown",
      "source": [
        "The Lagrangian approach to the equations of motion is used mainly\n",
        "to introduce the concept of a Lorentz invariant action from which covariant dynamical equations can be derived."
      ],
      "metadata": {
        "id": "oTGL2qmajF7Y"
      }
    },
    {
      "cell_type": "markdown",
      "source": [
        "###Lagrangian for a relativistic charged particle in electromagnetic fields:"
      ],
      "metadata": {
        "id": "bA60U6yIi7lk"
      }
    },
    {
      "cell_type": "markdown",
      "source": [
        "The Lagrangian treatment of mechanics is based on the principle at stationary action.\n",
        "\n",
        "In **nonrelativistic mechanics**, the system is described by generalized coordinates $ q_i(t) $ and velocities $ \\dot{q}_i(t) $.The *principle of stationary action* states that the motion of a mechanical system is such that in going from a configuration $ a $ at time $ t_1$ to a configuration $ b $ at time $ t_2 $ the action is an extremum, where the action is defined as\n",
        "\n",
        "$$ A = \\int_{t_1}^{t_2} L(q_i(t), \\dot{q}_i(t), t) dt $$\n",
        "\n",
        "\n",
        "\n",
        "For **relativistic Mechanics**,\n",
        "1.   The action integral must be a Lorentz scalar, and  $ \\delta A = 0 $.\n",
        "2.   Secondly, it should boil down to newtonian mechanics in non-relativistic limit.\n",
        "\n",
        "Since proper time is invariant, thereby ensuring the invariance of $ A $. For a free particle, the Lagrangian can be a function of the particle's velocity and mass, but not its position. We also know that for a free particle straight path in space-time extremises the action. By introducing the particle's proper time $ \\tau $ into the action integral, denoted as $ d\\tau = \\gamma^{-1} dt $, the action becomes\n",
        "\n",
        "$$\n",
        "A = \\int_{t_{1}}^{t_{2}} -mc^2 d\\tau = \\int_{t_{1}}^{t_{2}} \\frac{-mc^2}{\\gamma} dt\n",
        "$$\n",
        "\n",
        " Thus, the Lagrangian for a free particle is proportional to $ \\frac{1}{\\gamma} = \\sqrt{1 - \\frac{v^2}{c^2}}$. Similarily, we can couple electromagnetic potential based on similar arguments\n",
        "\n",
        "$$ L_{free} = -mc^2 \\sqrt{1 - \\frac{v^2}{c^2}} $$\n",
        "\n",
        "$$ L_{\\text{int}} =- e\\Phi + \\frac{e}{c} v\\cdot A $$\n",
        "\n",
        "$$L = -mc^2 \\sqrt{1 - \\frac{v^2}{c^2}}  + \\frac{e}{c} v\\cdot A - e\\Phi$$\n",
        "\n"
      ],
      "metadata": {
        "id": "Zlay9KK56Dtm"
      }
    },
    {
      "cell_type": "markdown",
      "source": [
        "###Lagrangian for Two Particle System:"
      ],
      "metadata": {
        "id": "OPtQkgbPYKSw"
      }
    },
    {
      "cell_type": "markdown",
      "source": [
        "\n",
        "We know that:\n",
        "$$\n",
        "B = \\nabla \\times A\n",
        "$$\n",
        "\n",
        "From the Maxwell equation we can say that:\n",
        "$$\n",
        "\\nabla \\times \\left( E + \\frac{1}{c} \\frac{\\partial A}{\\partial t} \\right) = E + \\frac{1}{c} \\frac{\\partial A}{\\partial t} = -\\nabla \\phi\n",
        "$$\n",
        "\n",
        "By applying the gauge condition we can easily obtain:\n",
        "$$\n",
        "\\nabla^2 \\lambda - \\frac{1}{c^2} \\frac{\\partial^2 \\lambda}{\\partial t^2} = (-\\nabla \\cdot A + \\frac{1}{c} \\frac{\\partial \\phi}{\\partial t})\n",
        "$$\n",
        "\n",
        "Now replace \\(A = A + \\nabla \\lambda\\) with the equation:\n",
        "$$\n",
        "\\phi = \\phi - \\frac{1}{c} \\frac{\\partial \\lambda}{\\partial t}\n",
        "$$\n",
        "\n",
        "Hence we will get a homogeneous differential equation for \\(\\lambda\\):\n",
        "$$\n",
        "\\nabla^2 \\lambda - \\frac{1}{c^2} \\frac{\\partial^2 \\lambda}{\\partial t^2} = 0\n",
        "$$\n",
        "\n",
        "We can apply a Coulomb gauge and can say that:\n",
        "$$\n",
        "\\nabla \\cdot A = 0\n",
        "$$\n",
        "\n",
        "The vector potential satisfies the inhomogeneous equation:\n",
        "$$\n",
        "(\\nabla)^2 A - \\frac{1}{c^2} \\frac{\\partial^2 A}{\\partial t^2} = \\frac{-4\\pi J}{c} + \\frac{1}{c} \\nabla \\frac{\\partial \\phi}{\\partial t}\n",
        "$$\n",
        "\n",
        "From the continuity equation we can say that:\n",
        "$$\n",
        "\\nabla \\frac{\\partial \\phi}{\\partial t} = -\\nabla \\int \\frac{J(x',t) \\, d^3x}{|x - x'|}\n",
        "$$\n",
        "\n",
        "Now the current consists of transverse and longitudinal components:\n",
        "$$\n",
        "J = J_{l} + J_{t}\n",
        "$$\n",
        "$$\n",
        "\\nabla \\times J_{l} = 0 \\quad \\text{and} \\quad \\nabla \\cdot J_{t} = 0\n",
        "$$\n",
        "$$\n",
        "J_{l} = \\frac{-1}{4\\pi} \\nabla \\int \\frac{\\nabla \\cdot J(x',t) \\, d^3x}{|x - x'|}\n",
        "$$\n",
        "$$\n",
        "J_{t} = \\frac{-1}{4\\pi} \\nabla \\times \\nabla \\times \\int \\frac{\\nabla \\cdot J(x',t) \\, d^3x}{|x - x'|}\n",
        "$$\n",
        "\n",
        "$$\n",
        "(\\nabla)^2 A - \\frac{1}{c^2} \\frac{\\partial^2 A}{\\partial t^2} = \\frac{-4\\pi}{c} J_{t}\n",
        "$$\n",
        "\n",
        "So given two particles with mass $m_e$ and $m_q$, charges $e$ and $q$, velocities $v_e$ and $v_q$, and at positions $r_e$ and $r_q$.\n",
        "The Vector potential will be given by:\n",
        "$$\n",
        "A \\approx \\left(\\frac{1}{c}\\right) \\int \\frac{J_{t}(x)'d^{3}(x)}{|x_{1}-x'|} \\,\n",
        "$$\n",
        "$$\n",
        "\\text{where } J_{t}(x') = q_{2}v_{2}\\delta(x' - x_{2}) - \\left(\\frac{q_{2}}{4\\pi}\\right) \\nabla\\frac{(v_{2} \\cdot (x' - x_{2}))}{(|x - x_{2}|)^{3}}.\n",
        "$$\n",
        "\n",
        "After integrating over the volume and changing \\( x' - x_{2} \\) to \\( y \\) and then integrating by parts, we get:\n",
        "$$\n",
        "A \\approx \\frac{q_{2}v_{2}}{2cr} + \\frac{q_{2}r(v \\cdot r)}{2c(r)^{3}}.\n",
        "$$\n",
        "\n",
        "The Lagrangian for a two-particle system will be given by:\n",
        "\\begin{align*}\n",
        "&\\frac{m_ec^2}{\\sqrt{1-\\left(\\frac{v_e}{c}\\right)^2}} - \\frac{m_qc^2}{\\sqrt{1-\\left(\\frac{v_q}{c}\\right)^2}} \\\\\n",
        "&- \\frac{eq}{\\lvert r_e - r_q \\rvert} + \\frac{eqv_e \\cdot v_q}{2c^2 \\lvert r_e - r_q \\rvert} + \\frac{eq[v_e \\cdot (r_e - r_q)][v_q \\cdot (r_e - r_q)]}{2c^2(\\lvert r_e - r_q \\rvert)^3} \\\\\n",
        "&= -m_ec^2\\sqrt{1-\\frac{(v_e)^2}{c^2}} - m_qc^2\\sqrt{1-\\frac{(v_q)^2}{c^2}} \\\\\n",
        "&- \\frac{(e\\phi_q(r_e,t) + e\\phi_e(r_q,t))}{2} + \\frac{(ev_e \\cdot A_q(r_e,t) + qv_q \\cdot A_e(r_q,t))}{2c}\n",
        "\\end{align*}\n",
        "\n",
        "\n",
        "\n"
      ],
      "metadata": {
        "id": "Xl9JsEZp1m8x"
      }
    },
    {
      "cell_type": "markdown",
      "source": [
        "\n",
        "###Equations of motion from the Darwin Lagrangian\n",
        "The Euler–Lagrange equations of motion for the charges e\n",
        "and q can be obtained in terms of the canonical momentum\n",
        "of a particle. However, these equations can be rewritten\n",
        "in the conventional form for Newton’s second law as the following\n",
        "$$\n",
        "\\frac{d\\mathbf{p}_{mechanical}}{dt} = q\\mathbf{E} + q(\\mathbf{v}/c)\\times\\mathbf{B}\n",
        "$$\n",
        "where, $\\mathbf{E}=-\\nabla\\Phi - (1/c)\\frac{\\partial{\\mathbf{A}}}{\\partial{t}}$ and $\\mathbf{B} = \\nabla\\times\\mathbf{A}$"
      ],
      "metadata": {
        "id": "dyO6pvPFNTdL"
      }
    },
    {
      "cell_type": "markdown",
      "source": [
        "###The Total Energy\n",
        "The system’s total energy follows directly from the\n",
        "Lagrangian, giving a sum of mechanical, electric,\n",
        "and magnetic energies\n",
        "$$\n",
        "U^{(total)} = U^{(m)}+ U^{(E)} + U^{(B)}\n",
        "$$\n",
        "where the mechanical energy is\n",
        "\\begin{align*}\n",
        "U^{(m)} = &\\frac{m_ec^2}{\\sqrt{1-\\left(\\frac{v_e}{c}\\right)^2}} + \\frac{m_qc^2}{\\sqrt{1-\\left(\\frac{v_q}{c}\\right)^2}}\n",
        "\\end{align*}\n",
        "the elecric field energy is\n",
        "$$\n",
        "U^{(E)} = \\frac{1}{2}[e\\Phi_{q}(\\mathbf{r}_{e},t) + q\\Phi_e(\\mathbf{r}_{q}, t)] = \\frac{eq}{\\lvert r_e - r_q \\rvert}\n",
        "$$\n",
        "and the magnetic field energy is\n",
        "$$\n",
        "U^{(B)}= \\frac{1}{2}[e\\frac{v_e}{c}.[\\mathbf{A}_q(\\mathbf{r}_e,t)] + q\\frac{v_q}{c}.[\\mathbf{A}_e(\\mathbf{r}_q,t)] = \\frac{eq}{2c^2}[\\frac{\\mathbf{v}_e.\\mathbf{v}_q}{|\\mathbf{r}_e-\\mathbf{r}_q|} + \\frac{[\\mathbf{v}_e.(\\mathbf{r}_e-\\mathbf{r}_q)][\\mathbf{v}_q.(\\mathbf{r}_e-\\mathbf{r}_q)]}{|\\mathbf{r}_e-\\mathbf{r}_q|^3}]\n",
        "$$\n"
      ],
      "metadata": {
        "id": "50DcgAJFNxuv"
      }
    },
    {
      "cell_type": "markdown",
      "source": [
        "## Connections between field potential and energy for electric and magnetic fields"
      ],
      "metadata": {
        "id": "9xorjZjMYiTn"
      }
    },
    {
      "cell_type": "markdown",
      "source": [
        "A. Changes in Electric Energy \\\\\n",
        "In the Darwin approximation, the changes in electric field\n",
        "energy are directly analogous to those familiar from electrostatics. The electric energy involves only the scalar\n",
        "potentials, which take the same form as in electrostatics. The\n",
        "electric forces associated with the electric potential are\n",
        "directly associated with energy in the electric field. The electric energy involves only the separation of the charged particles.\n",
        "\n",
        "B. Changes in Magnetic Energy \\\\\n",
        "Unlike changes in electric field energy, changes in magnetic energy involve both the distances between charges and their speeds. We can divide magnetic energy changes into two situations—those with constant speed and those with accelerating charges.\n",
        "\n",
        "1. Charged Particles Moving at Constant Speed\\\\\n",
        "For charges moving at constant speeds, the situation is straightforward. The forces and energy changes can be solved exactly. It's possible to change the magnetic field energy while keeping the particle speeds constant if the distance between the charges changes. In this case, the change in magnetic field energy comes from external forces, which maintain these constant speeds. There are no changes in kinetic energy or Faraday acceleration electric fields.\n",
        "A stationary charged particle doesn't cause any emf around any closed curve in that space. But a moving charged particle will cause an emf around a closed curve in the inertial frame. The moving charge has an associated magnetic field, and the resulting emf matches the changing magnetic flux through the closed curve. Therefore, depending on the speed of the charge, a charge may or may not cause an emf. If we only have two charges moving at constant speeds, we can always go to the rest frame of one of the charges, leaving us with only changes in electric field energy and no changes in magnetic field energy at all.\n",
        "Situations involving motional emfs are often treated as though the relevant charge carriers were moving at constant speed. These can be understood in terms of energy changes being balanced by the work done by external forces.\n",
        "2. Accelerating Charges \\\\\n",
        "Troublesome magnetic energy situations involve groups of charges where particles change their speeds. These cases generally involve Faraday acceleration electric forces and may include particle kinetic energy changes, changes in electromagnetic field energy, and/or work done by external forces. We will discuss magnetic energy changes in two different examples: one symmetric situation and one asymmetric situation."
      ],
      "metadata": {
        "id": "o9UajIQATuAL"
      }
    },
    {
      "cell_type": "markdown",
      "source": [
        "##Situations involving a long solenoid"
      ],
      "metadata": {
        "id": "7HBtzr55Yq71"
      }
    },
    {
      "cell_type": "markdown",
      "source": [
        "\n",
        "### Azimuthally symmetric solenoid with increasing currents\n",
        "A common example of a back (Faraday) acceleration electric field is seen in a circular solenoid. When the solenoid's currents are constant, the charge carriers move in a circle towards its center. A single charge moving this way doesn't just create electrostatic and magnetostatic fields, but also other effects, including radiation.\n",
        "\n",
        "However, when there are many charges, behaving like a steady current, the situation is different. Despite the charges still accelerating, all the additional effects cancel out, leaving only the electrostatic and magnetostatic fields.\n",
        "\n",
        "For a circular solenoid, the vector potential $\\mathbf{A}$ can be chosen to be in the azimuthal $\\hat{\\phi}$ -direction. Inside the solenoid, it equals $\\mathbf{A} = \\hat{\\phi}2πnevr/c$ and outside the solenoid, it equals $\\mathbf{A} = \\hat{\\phi}2πnevR^{2}/(cr)$. Here, 'n' is the number of current carriers per unit area, 'e' and 'v' are the charge and speed of each current carrier, and 'R' is the solenoid's radius. This aligns with the Coulomb gauge for $\\mathbf{A}$.\n",
        "\n",
        "When the solenoid's currents change in an azimuthally symmetric pattern, the charge carriers inside also change their speed. The power driving this change must counteract the back (Faraday) acceleration electric fields. These fields correspond to the acceleration terms. The balance of magnetic energy in this system requires these Faraday electric forces, which are connected to the accelerations of the charged particles."
      ],
      "metadata": {
        "id": "juUenCFqVn5x"
      }
    },
    {
      "cell_type": "markdown",
      "source": [
        "\n",
        "\n",
        "When the currents in a solenoid are changing in an azimuthally symmetric pattern, the charge carriers in the solenoid have a tangential acceleration associated with the same\n",
        "change in speed v for each charge. The agent changing the\n",
        "speed of the current carriers must provide the power against\n",
        "the back (Faraday) acceleration electric fields corresponding to the acceleration terms . The magnetic energy\n",
        "balance for quasistatic systems requires the existence of\n",
        "Faraday electric forces associated with the accelerations of\n",
        "the charged particles. \\\\\n",
        "The back electric fields associated with the changing\n",
        "speeds of the charge carriers can be described in terms of the\n",
        "changing vector potential. Thus, for a long solenoid with\n",
        "slowly increasing currents, the changes of speed of all the\n",
        "current carriers give a changing vector potential with nonzero $\\frac{∂A}{\\partial t}$ and so a back emf from the non-vanishing\n",
        "(Faraday) acceleration electric field appears from $E = -∇\\phi - \\frac{∂A}{\\partial t}$. Outside the solenoid, even though the\n",
        "magnitude of the vector potential is increasing in\n",
        "$A = ̂\\hat{\\phi} 2πnev\\frac{R^{2}}{r}$ due to the increase in v, the $\\frac{1}{r}$ fall-off of the vector potential with distance from the central axis still gives $B = \\nabla \\times A = 0$. To the surprise of many students,\n",
        "there is an acceleration-dependent electric field outside the\n",
        "solenoid from $\\frac{∂A}{\\partial t}$, but still no magnetic field outside. \\\\\n",
        "In elementary electromagnetism classes where examples\n",
        "and problems are highly symmetric, it is easy to relate the\n",
        "back emf of the solenoid to Faraday’s law involving a changing magnetic field. The textbooks emphasize that changing currents\n",
        "in a solenoid lead to changing magnetic fields and, therefore, to\n",
        "Faraday electric fields. They do not emphasize that this back\n",
        "emf is due directly to the electric fields produced by the accelerating current carriers. There is no need to go through a\n",
        "changing magnetic field to obtain the emf. The same current\n",
        "carriers that produce the Faraday acceleration electric field also\n",
        "produce the magnetic field of the solenoid in the first place.\n",
        "\n",
        "### Unsymmetric situations\n",
        "\n",
        "Many physicists are unprepared to understand the classical electromagnetic\n",
        "aspects of an unsymmetric situation such as that proposed by\n",
        "Aharonov and Bohm where electrons pass a long solenoid. When an electron passes alongside a long solenoid, the\n",
        "magnetic field of the passing charge will overlap with the\n",
        "magnetic field of the solenoid, which changes the total magnetic energy, a relativistic $\\frac{1}{c^{2}}$ effect. Depending upon\n",
        "which side the electron passes, the change in total magnetic\n",
        "field energy can be positive or negative. Naturally, one asks,\n",
        "“What provides the energy that balances the magnetic energy\n",
        "change?” If the solenoid is a superconductor, there is no\n",
        "external source of energy. In other cases, there is a battery\n",
        "providing current to the solenoid and one sometimes hears\n",
        "the suggestion that the battery provides the necessary energy\n",
        "changes. However, this side-dependent magnetic energy\n",
        "change does not correspond to a highly symmetric situation;\n",
        "the forces on the charged particles in the solenoid due to the\n",
        "passing charge’s fields will be in different directions in different locations, some solenoid charges increasing their\n",
        "speeds and some decreasing their speeds.\n",
        "The classical electromagnetic situation of charged particles\n",
        "passing a long solenoid lacks high symmetry, and therefore, we\n",
        "cannot use symmetry and the integral form of Faraday’s law to\n",
        "calculate the induced electric field, or the force on the passing\n",
        "electrons. One must turn to a more fundamental analysis such\n",
        "as one through the Darwin Lagrangian.\n",
        "\n"
      ],
      "metadata": {
        "id": "NEHoqe0TWONo"
      }
    },
    {
      "cell_type": "markdown",
      "source": [
        "## Example of two point charges moving side-by-side\n",
        "\n",
        "###  Side-by-side charges\n",
        "For the simplest possible illustration of magnetic energy\n",
        "changes in a situation lacking high symmetry, we consider two point charges e and q moving side-by-side with velocity\n",
        "$v_{e} =v_{q} = v$, along parallel frictionless rods. The rods are\n",
        "oriented parallel to the z-axis and are separated by a distance\n",
        "$l=|r_{e}-r_{q}|$. This system will have both electric and magnetic fields and associated energies. For motion with constant velocity, the electric and magnetic forces of one charge\n",
        "on the other are perpendicular to the frictionless rods. This\n",
        "same system, where the forces of constraint introduce neither\n",
        "energy nor net linear momentum, was used previously as\n",
        "an illustration of Einstein’s mass-energy relation $E=mc^{2}$. \\\\\n",
        "In Darwin’s approximation for the energy $U^{e}(r_{e},r_{q})=\\frac{eq}{l}$. For our simple side-by-side\n",
        "situation, where $r_{e}-r_{q}$ is perpendicular to v, we have the\n",
        "magnetic field energy $U^{b}(r_{e},r_{q},v)=\\frac{eqv^{2}}{2cl^{2}}$."
      ],
      "metadata": {
        "id": "xsr5rsk1ZDWi"
      }
    },
    {
      "cell_type": "markdown",
      "source": [
        "### Accelerating system of two point charges\n",
        "\n",
        "![sec4b.png](data:image/png;base64,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)\n",
        "\n",
        "\n",
        "Suppose that external forces $\\mathbf{F}_{ext}^{(e)}$ and $\\mathbf{F}_{ext}^{(1)}$ are applied to the two charges $q$ and $e$.\n",
        "Hence both particles have a small common acceleration $\\mathbf{a} = \\hat{z}a$ for a short time $\\tau$. This causes their common speed to change by $\\Delta v = a\\tau$ leading to a change in their kinetic energy.\n",
        "As according to the Darwin approximation as seen above, the electric field energy does not change however the magnetic field does change:\n",
        "$$\n",
        "\\Delta U^{(B)} = \\frac{{\\text{eq} \\left( v + \\Delta v \\right)^2}}{{2c^2l}} - \\frac{{\\text{eq} v^2}}{{2c^2l}} \\approx \\frac{{\\text{eq} v \\Delta v}}{{c^2l}}\n",
        "$$\n",
        "\n",
        "Simultaenously the vector potential changes due to the changes in the magnetic field and magnetic field energy. This results in a change in the Electric field through $\\mathbf{E} = - \\nabla \\phi - \\frac{1}{c} \\frac{\\partial \\mathbf{A}}{\\partial t}\n",
        "$.\n",
        "This new component is parallel to the velocity of the particles. The corresponding electric retarding force they exert is\n",
        "\n",
        "$$\n",
        "e\\mathbf{E}_{\\text{acc-q}} = q\\mathbf{E}_{\\text{acc-e}} = - \\frac{eq\\mathbf{a}}{2c^2\\left| \\mathbf{r}_e - \\mathbf{r}_q \\right|}  = \\frac{eq\\mathbf{a}}{2c^2l}\n",
        "$$\n",
        "Hence for both the particles, Newton's 2nd law gives us:\n",
        "$$\n",
        "\\frac{d\\mathbf{p}_e}{dt} = \\mathbf{F}^{(e)}_{\\text{ext}} - \\frac{eq\\mathbf{a}}{2c^2l} \\ \\ \\ \\ \\ \\\n",
        "\\text{and}  \\ \\ \\ \\ \\ \\\n",
        "\\frac{d\\mathbf{p}_q}{dt} = \\mathbf{F}^{(q)}_{\\text{ext}} - \\frac{eq\\mathbf{a}}{2c^2l}\n",
        "$$\n",
        "This gives us that for intended motion the external forces should be larger in magnitude than the retarding forces.\n",
        "The change in the energy of the system due to external forces is\n",
        "\n",
        "$$\n",
        "\\begin{aligned}\n",
        "\\Delta U_{\\text{total}}  &= \\int_{0}^{\\tau} dt \\left( \\mathbf{F}^{(e)}_{\\text{ext}} + \\mathbf{F}^{(q)}_{\\text{ext}} \\right) \\cdot \\mathbf{v} \\\\\n",
        "&= \\int_{0}^{\\tau} dt \\left(\n",
        "    \\frac{d\\mathbf{p}_e}{dt} + \\frac{d\\mathbf{p}_q}{dt} + \\frac{eq\\mathbf{a}}{c^2l}\n",
        "    \\right)  \\cdot \\mathbf{v}\\\\\n",
        "&\\approx \\Delta U_{(m_e)} + \\Delta U_{(m_q)} + \\frac{eqv\\Delta v}{c^2l} \\ \\ \\ \\ \\ \\ \\  \\left[\n",
        "    \\because \\mathbf{v \\cdot a}\\, \\tau = v \\Delta v \\right]\n",
        "\\end{aligned}\n",
        "$$\n",
        "\n",
        "if we keep only first order terms. Thus the external forces indeed account for the energy change, both the mechanical $\\left( \\Delta U_{(m_e)} + \\Delta U_{(m_q)} \\right)$ and also the magnetic $\\left( \\frac{eqv\\Delta v}{c^2l} \\right)$.\n",
        "\n",
        "This shows the contrasts involving forces, energies and potentials for the electric and magnetic fields.\n",
        "- In the *electric* case, the work associated directly appears as energy stored in the electric field as happens in electrostatics.\n",
        "- In the *magnetic* case, external or internal forces can change the speed of the particles that produce the magnetic field which leads to changes in magnetic energy.\n",
        "- Change of the particles' speed causes Faraday acceleration electric fields which make it harder for forces to accelerate the charges. It is the additional work against these that balances the change in magnetic field energy.\n",
        "\n",
        "\n"
      ],
      "metadata": {
        "id": "QxmjTt3WytL2"
      }
    },
    {
      "cell_type": "markdown",
      "source": [
        "## Conclusion\n",
        "In conclusion, the Darwin energy expressions shed light on the energy associated with the interaction of two low-speed charges. The electric field energ we get is the familiar expression from electrostatics. However, the magnetic field energy involves not only the separations but also the velocities of the charged particles.\n",
        "\n",
        "Interestingly enough, we say that charges moving at constant velocities do not experience Faraday acceleration electric fields, and any changes in magnetic field energy result from external forces maintaining the particles' velocities constant. On the other hand if the charges are accelerating, the magnetic field energy may also change due to the Faraday Acceleration terms.\n",
        "\n",
        "In scenarios where the speed of current carriers varies, the vector potential $\\mathbf{A}(\\mathbf{r}, t)$ acts as a mediator between magnetic and electric fields. Any external force that attempts to cause the charges to accelerate the current carriers produce a time varying $\\mathbf{A}(\\mathbf{r}, t)$ which in turn creates an induced Electric field to balance the energy change due to work done by the agent.\n",
        "\n",
        "The change in the magnetic field energy remains consistent with energy conservation because the external or internal agent causing the change has to do additional work against the back Faraday Electric fields."
      ],
      "metadata": {
        "id": "fvuJFWb2Ze5P"
      }
    }
  ]
}
